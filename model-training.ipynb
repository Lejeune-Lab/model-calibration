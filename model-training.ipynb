{
 "cells": [
  {
   "cell_type": "code",
   "execution_count": 21,
   "metadata": {},
   "outputs": [],
   "source": [
    "import numpy as np\n",
    "import matplotlib.pyplot as plt\n",
    "import pathlib"
   ]
  },
  {
   "cell_type": "markdown",
   "metadata": {},
   "source": [
    "## BIC Dataset"
   ]
  },
  {
   "cell_type": "markdown",
   "metadata": {},
   "source": [
    "Access the BIC (Buckling Instability Classification) dataset through the following link:\n",
    "\n",
    "[BIC Dataset](https://open.bu.edu/handle/2144/40085)"
   ]
  },
  {
   "cell_type": "markdown",
   "metadata": {},
   "source": [
    "Run the following cell to download the dataset and unzip into the right folder."
   ]
  },
  {
   "cell_type": "code",
   "execution_count": 19,
   "metadata": {},
   "outputs": [
    {
     "name": "stdout",
     "output_type": "stream",
     "text": [
      "2022-12-02 15:28:37 URL:https://open.bu.edu/bitstream/handle/2144/40085/BIC1.zip [284717/284717] -> \"BIC1.zip\" [1]\n",
      "2022-12-02 15:28:40 URL:https://open.bu.edu/bitstream/handle/2144/40085/BIC2.zip [589262/589262] -> \"BIC2.zip\" [1]\n",
      "2022-12-02 15:28:44 URL:https://open.bu.edu/bitstream/handle/2144/40085/BIC3.zip [2808306/2808306] -> \"BIC3.zip\" [1]\n"
     ]
    }
   ],
   "source": [
    "!wget --no-verbose https://open.bu.edu/bitstream/handle/2144/40085/BIC1.zip\n",
    "!unzip -qq BIC1.zip 'BIC1/*' -d data/\n",
    "!rm BIC1.zip\n",
    "\n",
    "!wget --no-verbose https://open.bu.edu/bitstream/handle/2144/40085/BIC2.zip\n",
    "!unzip -qq BIC2.zip 'BIC2/*' -d data/\n",
    "!rm BIC2.zip\n",
    "\n",
    "!wget --no-verbose https://open.bu.edu/bitstream/handle/2144/40085/BIC3.zip\n",
    "!unzip -qq BIC3.zip 'BIC3/*' -d data/\n",
    "!rm BIC3.zip"
   ]
  },
  {
   "cell_type": "markdown",
   "metadata": {},
   "source": [
    "### Model Training"
   ]
  },
  {
   "cell_type": "markdown",
   "metadata": {},
   "source": [
    "After running each cell, predicted probability vectors for the test set (and calibration set for Neural Network only) will be save in the `results` folder."
   ]
  },
  {
   "cell_type": "markdown",
   "metadata": {},
   "source": [
    "##### Gaussian Process Classifier (GPC)"
   ]
  },
  {
   "cell_type": "code",
   "execution_count": 132,
   "metadata": {},
   "outputs": [],
   "source": [
    "from sklearn.gaussian_process import GaussianProcessClassifier\n",
    "from sklearn.gaussian_process.kernels import RBF"
   ]
  },
  {
   "cell_type": "code",
   "execution_count": 133,
   "metadata": {},
   "outputs": [],
   "source": [
    "# A list of training set sizes used for training the model:\n",
    "tr_sizes = [200, 500, 1000, 2000, 5000, 10000]\n",
    "\n",
    "# Dataset versions:\n",
    "datasets = [1, 2, 3]\n",
    "\n",
    "for d_num in datasets:\n",
    "    p = pathlib.Path(f'results/BIC{d_num}/GPC/')\n",
    "    p.mkdir(parents=True, exist_ok=True)\n",
    "    \n",
    "    tr_set_input = np.loadtxt(f'data/BIC{d_num}/train_input_data.txt')\n",
    "    tr_set_output = np.loadtxt(f'data/BIC{d_num}/train_output_data.txt')\n",
    "    \n",
    "    test_input = np.loadtxt(f'data/BIC{d_num}/test_input_data.txt')\n",
    "    test_output = np.loadtxt(f'data/BIC{d_num}/test_output_data.txt')\n",
    "    \n",
    "    for tr_size in tr_sizes:\n",
    "        train_input = tr_set_input[0:tr_size]\n",
    "        train_output = tr_set_output[0:tr_size]\n",
    "\n",
    "        kernel = 0.5 * RBF(1.0)\n",
    "        gpc_model = GaussianProcessClassifier(kernel)\n",
    "        gpc_model.fit(train_input, train_output)\n",
    "\n",
    "        probs = gpc_model.predict_proba(test_input)\n",
    "\n",
    "        np.save(f'results/BIC{d_num}/GPC/probs-tr_size-{tr_size}.npy', probs)"
   ]
  },
  {
   "cell_type": "markdown",
   "metadata": {},
   "source": [
    "##### Support Vector Classifier (SVC)"
   ]
  },
  {
   "cell_type": "code",
   "execution_count": 134,
   "metadata": {},
   "outputs": [],
   "source": [
    "from sklearn import svm"
   ]
  },
  {
   "cell_type": "code",
   "execution_count": 135,
   "metadata": {},
   "outputs": [],
   "source": [
    "# A list of training set sizes used for training the model:\n",
    "tr_sizes = [200, 500, 1000, 2000, 5000, 10000]\n",
    "\n",
    "# Dataset versions:\n",
    "datasets = [1, 2, 3]\n",
    "\n",
    "for d_num in datasets:\n",
    "    p = pathlib.Path(f'results/BIC{d_num}/SVC/')\n",
    "    p.mkdir(parents=True, exist_ok=True)\n",
    "    \n",
    "    tr_set_input = np.loadtxt(f'data/BIC{d_num}/train_input_data.txt')\n",
    "    tr_set_output = np.loadtxt(f'data/BIC{d_num}/train_output_data.txt')\n",
    "    \n",
    "    test_input = np.loadtxt(f'data/BIC{d_num}/test_input_data.txt')\n",
    "    test_output = np.loadtxt(f'data/BIC{d_num}/test_output_data.txt')\n",
    "    \n",
    "    for tr_size in tr_sizes:\n",
    "        train_input = tr_set_input[0:tr_size]\n",
    "        train_output = tr_set_output[0:tr_size]\n",
    "\n",
    "        svc_model = svm.SVC(probability=True, random_state=42)\n",
    "        svc_model.fit(train_input, train_output)\n",
    "\n",
    "        probs = svc_model.predict_proba(test_input)\n",
    "\n",
    "        np.save(f'results/BIC{d_num}/SVC/probs-tr_size-{tr_size}.npy', probs)"
   ]
  },
  {
   "cell_type": "markdown",
   "metadata": {},
   "source": [
    "##### Neural Network"
   ]
  },
  {
   "cell_type": "code",
   "execution_count": 11,
   "metadata": {},
   "outputs": [],
   "source": [
    "import torch\n",
    "import torch.nn as nn\n",
    "from torch.utils.data import TensorDataset, DataLoader"
   ]
  },
  {
   "cell_type": "code",
   "execution_count": 92,
   "metadata": {},
   "outputs": [],
   "source": [
    "# Define the network\n",
    "class MLP(nn.Module):\n",
    "    def __init__(self):\n",
    "        super().__init__()\n",
    "        self.layers = nn.Sequential(\n",
    "            nn.Linear(16, 200),\n",
    "            nn.BatchNorm1d(200),\n",
    "            nn.ReLU(),\n",
    "            nn.Linear(200, 200),\n",
    "            nn.BatchNorm1d(200),\n",
    "            nn.ReLU(),\n",
    "            nn.Dropout(0.5),\n",
    "            nn.Linear(200, 200),\n",
    "            nn.BatchNorm1d(200),\n",
    "            nn.ReLU(),\n",
    "            nn.Dropout(0.5),\n",
    "            nn.Linear(200, 2)\n",
    "        )\n",
    "\n",
    "    def forward(self, x):\n",
    "        return self.layers(x)"
   ]
  },
  {
   "cell_type": "code",
   "execution_count": 136,
   "metadata": {},
   "outputs": [],
   "source": [
    "dev = 'cuda:0' if torch.cuda.is_available() else 'cpu'\n",
    "\n",
    "# A list of training set sizes used for training the model:\n",
    "tr_sizes = [200]#, 500, 1000, 2000, 5000, 10000]\n",
    "\n",
    "# Dataset versions:\n",
    "datasets = [1, 2, 3]\n",
    "\n",
    "for d_num in datasets:\n",
    "    p = pathlib.Path(f'results/BIC{d_num}/NN')\n",
    "    p.mkdir(parents=True, exist_ok=True)\n",
    "    \n",
    "    tr_set_input = np.loadtxt(f'data/BIC{d_num}/train_input_data.txt')\n",
    "    tr_set_output = np.loadtxt(f'data/BIC{d_num}/train_output_data.txt')\n",
    "    \n",
    "    for tr_size in tr_sizes:\n",
    "        train_input = tr_set_input[0:tr_size]\n",
    "        train_output = tr_set_output[0:tr_size]\n",
    "\n",
    "        cal_input = tr_set_input[10000:11000]\n",
    "        cal_output = tr_set_output[10000:11000]\n",
    "\n",
    "        val_input = tr_set_input[20000:21000]\n",
    "        val_output = tr_set_output[20000:21000]\n",
    "\n",
    "        test_input = np.loadtxt(f'data/BIC{d_num}/test_input_data.txt')\n",
    "\n",
    "        # Normalize inputs:\n",
    "        mu = np.mean(train_input, axis=0)\n",
    "        std = np.std(train_input, axis=0)\n",
    "\n",
    "        train_input = torch.tensor((train_input - mu) / std).to(torch.float)\n",
    "        cal_input = torch.tensor((cal_input - mu) / std).to(torch.float)\n",
    "        val_input = torch.tensor((val_input - mu) / std).to(torch.float)\n",
    "        test_input = torch.tensor((test_input - mu) / std).to(torch.float)\n",
    "        \n",
    "        # TRAIN THE NEURAL NETWORK\n",
    "        train_output = torch.tensor(train_output).to(torch.long)\n",
    "        train_output = nn.functional.one_hot(train_output).to(torch.float)\n",
    "        cal_output = torch.tensor(cal_output).to(torch.long)\n",
    "        cal_output = nn.functional.one_hot(cal_output).to(torch.float)\n",
    "        val_output = torch.tensor(val_output).to(torch.long)\n",
    "        val_output = nn.functional.one_hot(val_output).to(torch.float)\n",
    "        \n",
    "        training_set = TensorDataset(train_input, train_output)\n",
    "        cal_set = TensorDataset(cal_input, cal_output)\n",
    "        val_set = TensorDataset(val_input, val_output)\n",
    "        \n",
    "        train_dataloader = DataLoader(training_set, batch_size=256, shuffle=True)\n",
    "        cal_dataloader = DataLoader(cal_set, batch_size=1000, shuffle=False)\n",
    "        val_dataloader = DataLoader(val_set, batch_size=1000, shuffle=False)\n",
    "        \n",
    "        for model_num in range(10):\n",
    "            torch.manual_seed(model_num + 42)\n",
    "            mlp = MLP()\n",
    "            mlp.to(dev)\n",
    "            mlp.train()\n",
    "\n",
    "            loss_function = nn.CrossEntropyLoss(reduction='sum')\n",
    "            optimizer = torch.optim.Adam(mlp.parameters(), lr=1e-3, weight_decay=0.0)\n",
    "            scheduler = torch.optim.lr_scheduler.StepLR(optimizer, step_size=25, gamma=0.5)\n",
    "            \n",
    "            training_error = []\n",
    "            cal_error = []\n",
    "            val_error = []\n",
    "            for epoch in range(0, 50):\n",
    "                mlp.train()\n",
    "                sum_loss = 0.0\n",
    "                for inputs, targets in train_dataloader:\n",
    "                    inputs = inputs.to(dev)\n",
    "                    targets = targets.to(dev)\n",
    "                    optimizer.zero_grad()\n",
    "                    outputs = mlp(inputs)\n",
    "                    loss = loss_function(outputs, targets)\n",
    "                    loss.backward()\n",
    "                    optimizer.step()\n",
    "                    sum_loss += loss.item()\n",
    "                training_error.append(sum_loss / tr_size)\n",
    "\n",
    "                mlp.eval()\n",
    "                with torch.no_grad():\n",
    "                    sum_loss_val = 0\n",
    "                    for input, output in val_dataloader:\n",
    "                        loss = loss_function(mlp(input), output)\n",
    "                        sum_loss_val += loss.item()\n",
    "                    val_error.append(sum_loss_val / 1000)    \n",
    "                    sum_loss_cal = 0\n",
    "                    for input, output in cal_dataloader:\n",
    "                        loss = loss_function(mlp(cal_input), cal_output)\n",
    "                        sum_loss_cal += loss.item()\n",
    "                    cal_error.append(sum_loss_cal / 1000)\n",
    "    \n",
    "                scheduler.step()\n",
    "            \n",
    "            #plt.plot(np.log(training_error), 'k')\n",
    "            #plt.plot(np.log(cal_error), 'r')\n",
    "            #plt.plot(np.log(val_error), 'b')\n",
    "            #plt.show()\n",
    "\n",
    "            mlp.eval()\n",
    "            with torch.no_grad():\n",
    "                cal_logits = mlp(cal_input)\n",
    "                probs = torch.softmax(cal_logits, axis=1)\n",
    "            \n",
    "            np.save(f'results/BIC{d_num}/NN/probs-cal-tr_size-{tr_size}-model_num-{model_num}.npy', probs)\n",
    "\n",
    "            mlp.eval()\n",
    "            with torch.no_grad():\n",
    "                test_logits = mlp(test_input)\n",
    "                probs = torch.softmax(test_logits, axis=1)\n",
    "            \n",
    "            np.save(f'results/BIC{d_num}/NN/probs-test-tr_size-{tr_size}-model_num-{model_num}.npy', probs)\n"
   ]
  },
  {
   "cell_type": "markdown",
   "metadata": {},
   "source": [
    "# ABC Dataset"
   ]
  },
  {
   "cell_type": "markdown",
   "metadata": {},
   "source": [
    "For details of model training check out [ABC_Dataset](https://github.com/pprachas/ABC_dataset) repository on GitHub."
   ]
  },
  {
   "cell_type": "markdown",
   "metadata": {},
   "source": [
    "We have logits of trained models in this repo."
   ]
  },
  {
   "cell_type": "code",
   "execution_count": 10,
   "metadata": {},
   "outputs": [],
   "source": [
    "# Dataset versions:\n",
    "datasets = [1, 2, 3]\n",
    "\n",
    "for d_num in datasets:\n",
    "    p = pathlib.Path(f'results/ABC{d_num}/NN')\n",
    "    p.mkdir(parents=True, exist_ok=True)\n",
    "    \n",
    "    logits_cal = np.load(f'data/ABC{d_num}/logits_val.npy')[:,:1000]\n",
    "    probs_cal = np.exp(logits_cal) / np.sum(np.exp(logits_cal), axis=2, keepdims=True)\n",
    "\n",
    "    logits_test = np.load(f'data/ABC{d_num}/logits_test.npy')\n",
    "    probs_test = np.exp(logits_test) / np.sum(np.exp(logits_test), axis=2, keepdims=True)\n",
    "    \n",
    "    for model_num in range(10):\n",
    "        np.save(f'results/ABC{d_num}/NN/probs-cal-model_num-{model_num}.npy', probs_cal[model_num])\n",
    "        np.save(f'results/ABC{d_num}/NN/probs-test-model_num-{model_num}.npy', probs_test[model_num])"
   ]
  },
  {
   "cell_type": "markdown",
   "metadata": {},
   "source": [
    "# Crack Path Dataset"
   ]
  },
  {
   "cell_type": "markdown",
   "metadata": {},
   "source": [
    "Access the Mechanical MNIST Crack Path dataset through the following link:\n",
    "\n",
    "[Crack Path Dataset](https://open.bu.edu/handle/2144/42757)"
   ]
  },
  {
   "cell_type": "markdown",
   "metadata": {},
   "source": [
    "Manually download\n",
    "\n",
    "- `mat-dist-train.7z`\n",
    "\n",
    "- `mat-dist-test.7z`\n",
    "\n",
    "- `dmg-train-64x64.7z`\n",
    "\n",
    "- `dmg-test-64x64.7z`\n",
    "\n",
    "and extract them into the `data/` folder."
   ]
  },
  {
   "cell_type": "markdown",
   "metadata": {},
   "source": [
    "Or, run the two cells below to download and process the dataset. This may take approximately 30 minutes to complete."
   ]
  },
  {
   "cell_type": "code",
   "execution_count": 148,
   "metadata": {},
   "outputs": [
    {
     "name": "stdout",
     "output_type": "stream",
     "text": [
      "2022-12-06 19:32:04 URL:https://open.bu.edu/bitstream/handle/2144/42757/dmg-train-64x64.7z [3817372/3817372] -> \"dmg-train-64x64.7z\" [1]\n",
      "2022-12-06 19:39:28 URL:https://open.bu.edu/bitstream/handle/2144/42757/dmg-test-64x64.7z [639023/639023] -> \"dmg-test-64x64.7z\" [1]\n"
     ]
    }
   ],
   "source": [
    "!wget --no-verbose https://open.bu.edu/bitstream/handle/2144/42757/mat-dist-train.7z\n",
    "!7z x mat-dist-train.7z -o./data/Crack-Path/ > log\n",
    "!rm mat-dist-train.7z\n",
    "\n",
    "!wget --no-verbose https://open.bu.edu/bitstream/handle/2144/42757/mat-dist-test.7z\n",
    "!7z x mat-dist-test.7z -o./data/Crack-Path/ > log\n",
    "!rm mat-dist-test.7z\n",
    "\n",
    "!wget --no-verbose https://open.bu.edu/bitstream/handle/2144/42757/dmg-train-64x64.7z\n",
    "!7z x dmg-train-64x64.7z -o./data/Crack-Path/ > log\n",
    "!rm dmg-train-64x64.7z\n",
    "\n",
    "!wget --no-verbose https://open.bu.edu/bitstream/handle/2144/42757/dmg-test-64x64.7z\n",
    "!7z x dmg-test-64x64.7z -o./data/Crack-Path/ > log\n",
    "!rm dmg-test-64x64.7z"
   ]
  },
  {
   "cell_type": "code",
   "execution_count": 151,
   "metadata": {},
   "outputs": [],
   "source": [
    "dmgs_train = np.zeros((60000, 64, 64))\n",
    "mats_train = np.zeros((60000, 64, 64))\n",
    "for i in range(60000):\n",
    "    dmgs_train[i] = np.loadtxt(f'data/Crack-Path/dmg-train-64x64/dmg{i}.txt')\n",
    "    mats_train[i] = np.loadtxt(f'data/Crack-Path/mat-dist-train/mat{i}.txt')\n",
    "\n",
    "dmgs_test = np.zeros((10000, 64, 64))\n",
    "mats_test = np.zeros((10000, 64, 64))\n",
    "for i in range(10000):\n",
    "    dmgs_test[i] = np.loadtxt(f'data/Crack-Path/dmg-test-64x64/dmg{i}.txt')\n",
    "    mats_test[i] = np.loadtxt(f'data/Crack-Path/mat-dist-test/mat{i}.txt')\n",
    "\n",
    "np.save('data/Crack-Path/mat-train.npy', mats_train)\n",
    "np.save('data/Crack-Path/dmg-train.npy', dmgs_train)\n",
    "np.save('data/Crack-Path/mat-test.npy', mats_test)\n",
    "np.save('data/Crack-Path/dmg-test.npy', dmgs_test)\n",
    "\n",
    "del mats_train, dmgs_train, mats_test, dmgs_test "
   ]
  },
  {
   "cell_type": "markdown",
   "metadata": {},
   "source": [
    "### Model Training\n",
    "\\* Note that we have the weights of the trained models in this repository so you can use them and skip the training phase. Go to [Testing](#testing)"
   ]
  },
  {
   "cell_type": "code",
   "execution_count": 4,
   "metadata": {},
   "outputs": [],
   "source": [
    "import torch\n",
    "from torch import nn\n",
    "import random\n",
    "import torch.nn.functional as F\n",
    "from torch.utils.data import TensorDataset, DataLoader"
   ]
  },
  {
   "cell_type": "markdown",
   "metadata": {},
   "source": [
    "##### Define the UNet Model"
   ]
  },
  {
   "cell_type": "code",
   "execution_count": 5,
   "metadata": {},
   "outputs": [],
   "source": [
    "class UNet(nn.Module):\n",
    "    def __init__(self, c):\n",
    "        super(UNet, self).__init__()\n",
    "        # Convolutional Block in Encoder Section at Level i: ei   --   Decoder Section: di\n",
    "        # input: 64x64\n",
    "        self.e01 = nn.Conv2d(in_channels=1, out_channels=c, kernel_size=3, stride=1, padding=1, bias=False)\n",
    "        self.bn01 = nn.BatchNorm2d(num_features=c)\n",
    "        self.e02 = nn.Conv2d(in_channels=c, out_channels=c, kernel_size=3, stride=1, padding=1, bias=False)\n",
    "        self.bn02 = nn.BatchNorm2d(num_features=c)\n",
    "        \n",
    "        # input: #32x32\n",
    "        self.e11 = nn.Conv2d(in_channels=c, out_channels=2*c, kernel_size=3, stride=1, padding=1, bias=False)\n",
    "        self.bn11 = nn.BatchNorm2d(num_features=2*c)\n",
    "        self.e12 = nn.Conv2d(in_channels=2*c, out_channels=2*c, kernel_size=3, stride=1, padding=1, bias=False)\n",
    "        self.bn12 = nn.BatchNorm2d(num_features=2*c)\n",
    "        \n",
    "        # input: 16x16\n",
    "        self.e21 = nn.Conv2d(in_channels=2*c, out_channels=4*c, kernel_size=3, stride=1, padding=1, bias=False)\n",
    "        self.bn21 = nn.BatchNorm2d(num_features=4*c)\n",
    "        self.e22 = nn.Conv2d(in_channels=4*c, out_channels=4*c, kernel_size=3, stride=1, padding=1, bias=False)\n",
    "        self.bn22 = nn.BatchNorm2d(num_features=4*c)\n",
    "        \n",
    "        # input: 8x8\n",
    "        self.e31 = nn.Conv2d(in_channels=4*c, out_channels=8*c, kernel_size=3, stride=1, padding=1, bias=False)\n",
    "        self.bn31 = nn.BatchNorm2d(num_features=8*c)\n",
    "        self.e32 = nn.Conv2d(in_channels=8*c, out_channels=8*c, kernel_size=3, stride=1, padding=1, bias=False)\n",
    "        self.bn32 = nn.BatchNorm2d(num_features=8*c)\n",
    "        \n",
    "        # input: 16x16\n",
    "        self.d21 = nn.Conv2d(in_channels=8*c, out_channels=4*c, kernel_size=3, stride=1, padding=1, bias=False)\n",
    "        self.bn23 = nn.BatchNorm2d(num_features=4*c)\n",
    "        self.d22 = nn.Conv2d(in_channels=4*c, out_channels=4*c, kernel_size=3, stride=1, padding=1, bias=False)\n",
    "        self.bn24 = nn.BatchNorm2d(num_features=4*c)\n",
    "        \n",
    "        # input: 32x32\n",
    "        self.d11 = nn.Conv2d(in_channels=4*c, out_channels=2*c, kernel_size=3, stride=1, padding=1, bias=False)\n",
    "        self.bn13 = nn.BatchNorm2d(num_features=2*c)\n",
    "        self.d12 = nn.Conv2d(in_channels=2*c, out_channels=2*c, kernel_size=3, stride=1, padding=1, bias=False)\n",
    "        self.bn14 = nn.BatchNorm2d(num_features=2*c)\n",
    "        \n",
    "        # input: 64x64\n",
    "        self.d01 = nn.Conv2d(in_channels=2*c, out_channels=c, kernel_size=3, stride=1, padding=1, bias=False)\n",
    "        self.bn03 = nn.BatchNorm2d(num_features=c)\n",
    "        self.d02 = nn.Conv2d(in_channels=c, out_channels=c, kernel_size=3, stride=1, padding=1, bias=False)\n",
    "        self.bn04 = nn.BatchNorm2d(num_features=c)\n",
    "        \n",
    "        # Increaseing the resolution of image from a lower level to match the upper level\n",
    "        self.upconv3 = nn.ConvTranspose2d(in_channels=8*c, out_channels=4*c, kernel_size=2, stride=2)\n",
    "        self.upconv2 = nn.ConvTranspose2d(in_channels=4*c, out_channels=2*c, kernel_size=2, stride=2)\n",
    "        self.upconv1 = nn.ConvTranspose2d(in_channels=2*c, out_channels=c, kernel_size=2, stride=2)\n",
    "\n",
    "        # Output\n",
    "        self.out = nn.Conv2d(in_channels=c, out_channels=2, kernel_size=3, stride=1, padding=1, bias=True)\n",
    "        \n",
    "        self.maxpool = nn.MaxPool2d(2, 2)\n",
    "        self.relu = nn.ReLU()\n",
    "\n",
    "    def forward(self, x):\n",
    "        # encoder\n",
    "        x0 = self.relu(self.bn02(self.e02(self.relu(self.bn01(self.e01(x))))))\n",
    "        x = self.maxpool(x0)\n",
    "\n",
    "        x1 = self.relu(self.bn12(self.e12(self.relu(self.bn11(self.e11(x))))))\n",
    "        x = self.maxpool(x1)\n",
    "        \n",
    "        x2 = self.relu(self.bn22(self.e22(self.relu(self.bn21(self.e21(x))))))\n",
    "        x = self.maxpool(x2)\n",
    "        \n",
    "        x = self.relu(self.bn32(self.e32(self.relu(self.bn31(self.e31(x))))))\n",
    "        \n",
    "        # decoder\n",
    "        x = torch.cat((self.upconv3(x), x2), dim=1)\n",
    "        x = self.relu(self.bn24(self.d22(self.relu(self.bn23(self.d21(x))))))\n",
    "\n",
    "        x = torch.cat((self.upconv2(x), x1), dim=1)\n",
    "        x = self.relu(self.bn14(self.d12(self.relu(self.bn13(self.d11(x))))))\n",
    "\n",
    "        x = torch.cat((self.upconv1(x), x0), dim=1)\n",
    "        x = self.relu(self.bn04(self.d02(self.relu(self.bn03(self.d01(x))))))\n",
    "\n",
    "        out = self.out(x)\n",
    "\n",
    "        return out"
   ]
  },
  {
   "cell_type": "markdown",
   "metadata": {},
   "source": [
    "##### Define Utility Functions"
   ]
  },
  {
   "cell_type": "code",
   "execution_count": 6,
   "metadata": {},
   "outputs": [],
   "source": [
    "def make_train_step(model, loss_fn, optimizer):\n",
    "    def train_step(x, y):\n",
    "        model.train()\n",
    "\n",
    "        out = model(x)\n",
    "        \n",
    "        loss = loss_fn(out, y)\n",
    "        loss.backward()\n",
    "\n",
    "        optimizer.step()\n",
    "        optimizer.zero_grad()\n",
    "\n",
    "        return loss\n",
    "\n",
    "    return train_step\n",
    "\n",
    "class DiceLoss(nn.Module):\n",
    "    def __init__(self):\n",
    "        super(DiceLoss, self).__init__()\n",
    " \n",
    "    def forward(self, inputs, target, smooth=0.5):\n",
    "        gt_onehot = F.one_hot(target.reshape(-1, 64, 64).to(torch.long), 2).permute(0, 3, 1, 2)\n",
    "        inputs = torch.softmax(inputs, axis=1)       \n",
    "        \n",
    "        dice_loss = - (2. * (inputs * gt_onehot).sum() + smooth) / ((inputs + gt_onehot).sum() + smooth)\n",
    "        \n",
    "        return 1 + dice_loss"
   ]
  },
  {
   "cell_type": "markdown",
   "metadata": {},
   "source": [
    "##### Load the Dataset"
   ]
  },
  {
   "cell_type": "code",
   "execution_count": 23,
   "metadata": {},
   "outputs": [],
   "source": [
    "tr_size = 10000\n",
    "val_size = 1000\n",
    "cal_size = 1000\n",
    "\n",
    "tr_input = np.load('data/Crack-Path/mat-train.npy').reshape(-1, 1, 64, 64)\n",
    "tr_output = np.load('data/Crack-Path/dmg-train.npy').reshape(-1, 1, 64, 64)\n",
    "\n",
    "train_input = tr_input[:tr_size]\n",
    "train_output = tr_output[:tr_size]\n",
    "\n",
    "val_input = tr_input[10000:10000+val_size]\n",
    "val_output = tr_output[10000:10000+val_size]\n",
    "\n",
    "cal_input = tr_input[20000:20000+cal_size]\n",
    "cal_output = tr_output[20000:20000+cal_size]\n",
    "\n",
    "del tr_input, tr_output\n",
    "\n",
    "test_input = np.load('data/Crack-Path/mat-test.npy').reshape(-1, 1, 64, 64)\n",
    "test_output = np.load('data/Crack-Path/dmg-test.npy').reshape(-1, 1, 64, 64)\n",
    "\n",
    "mu = np.mean(train_input)\n",
    "std = np.std(train_input)\n",
    "\n",
    "train_input = torch.tensor((train_input-mu)/std, dtype=torch.double)\n",
    "train_output = torch.tensor(train_output, dtype=torch.double)\n",
    "val_input = torch.tensor((val_input-mu)/std, dtype=torch.double)\n",
    "val_output = torch.tensor(val_output, dtype=torch.double)\n",
    "cal_input = torch.tensor((cal_input-mu)/std, dtype=torch.double)\n",
    "cal_output = torch.tensor(cal_output, dtype=torch.double)\n",
    "test_input = torch.tensor((test_input-mu)/std, dtype=torch.double)\n",
    "test_output = torch.tensor(test_output, dtype=torch.double)"
   ]
  },
  {
   "cell_type": "code",
   "execution_count": 24,
   "metadata": {},
   "outputs": [
    {
     "data": {
      "image/png": "[encoded data removed]",
      "text/plain": [
       "<Figure size 432x288 with 2 Axes>"
      ]
     },
     "metadata": {
      "needs_background": "light"
     },
     "output_type": "display_data"
    }
   ],
   "source": [
    "_, axs = plt.subplots(1, 2)\n",
    "for ax in axs:\n",
    "    ax.axis('off')\n",
    "axs[0].set_title('Material Distribution')\n",
    "axs[1].set_title('Damage Field')\n",
    "input_plot = axs[0].imshow(torch.flip(train_input[5, 0], (0,)))\n",
    "output_plot = axs[1].imshow(torch.flip(train_output[5, 0], (0,)))"
   ]
  },
  {
   "cell_type": "markdown",
   "metadata": {},
   "source": [
    "##### Training Process"
   ]
  },
  {
   "cell_type": "code",
   "execution_count": 46,
   "metadata": {},
   "outputs": [],
   "source": [
    "def training(epochs, learning_rate, decay_rate, decay_step, batch_size, channels, model_name):\n",
    "    p = pathlib.Path(f'results/Crack-Path/best_models/')\n",
    "    p.mkdir(parents=True, exist_ok=True)\n",
    "    \n",
    "    # data\n",
    "    train_loader = DataLoader(TensorDataset(train_input, train_output), batch_size=batch_size, shuffle=True)\n",
    "    val_loader = DataLoader(TensorDataset(val_input, val_output), batch_size=batch_size, shuffle=False)\n",
    "    \n",
    "    # GPU\n",
    "    dev = 'cuda:0' if torch.cuda.is_available() else 'cpu'\n",
    "\n",
    "    model = UNet(channels)\n",
    "    model.double()\n",
    "    # remove comment if you are using more than one GPU\n",
    "    #model = nn.DataParallel(model, device_ids = [0])\n",
    "    model.to(dev)\n",
    "\n",
    "    min_val_loss = np.inf\n",
    "    \n",
    "    loss_fn = DiceLoss()\n",
    "    optimizer = torch.optim.Adam(model.parameters(), lr=learning_rate)#torch.optim.Adam(model.parameters(), lr=learning_rate)\n",
    "    scheduler = torch.optim.lr_scheduler.StepLR(optimizer, step_size=decay_step, gamma=decay_rate)\n",
    "\n",
    "    train_step = make_train_step(model, loss_fn, optimizer)\n",
    "\n",
    "    train_loss = [] # recording training error after each epoch\n",
    "    val_loss = [] # recording validation error after each epoch\n",
    "    for epoch in range(epochs):\n",
    "        loss = 0\n",
    "        n_batches = 0\n",
    "        # 1 training epoch\n",
    "        for x_batch, y_batch in train_loader:\n",
    "            n_batches += 1\n",
    "            x_batch = x_batch.to(dev)\n",
    "            y_batch = y_batch.to(dev)\n",
    "            l = train_step(x_batch, y_batch)\n",
    "            if n_batches % 100 == 0:\n",
    "                print(f\"epoch {epoch+1}/{epochs} | batch {n_batches} | batch loss: {l.item()}\")\n",
    "            loss += l * len(x_batch)\n",
    "        scheduler.step()\n",
    "        train_loss = np.append(train_loss, loss.item()/(tr_size))\n",
    "\n",
    "        # Validation error calculation\n",
    "        with torch.no_grad():\n",
    "            loss_val = 0\n",
    "            n_batches_val = 0\n",
    "            for x_batch_val, y_batch_val in val_loader:\n",
    "                n_batches_val += 1\n",
    "                x_batch_val = x_batch_val.to(dev)\n",
    "                y_batch_val = y_batch_val.to(dev)\n",
    "                model.eval()\n",
    "                val_out = model(x_batch_val)\n",
    "                loss_val += loss_fn(val_out, y_batch_val) * len(x_batch_val)\n",
    "\n",
    "        val_loss = np.append(val_loss, loss_val.item()/(val_size))\n",
    "        print('epoch: ', epoch+1, '  |  loss (training): ', loss.item()/(tr_size), '  |  loss (validation): ', loss_val.item()/(val_size), end='\\r')\n",
    "\n",
    "        is_best = False\n",
    "        if min_val_loss > val_loss[-1]:\n",
    "            is_best = True\n",
    "            min_val_loss = val_loss[-1]\n",
    "    \n",
    "        if is_best:\n",
    "            torch.save(model.state_dict(), f'results/Crack-Path/best_models/{model_name}.pt')\n",
    "\n",
    "    print('epoch: ', epoch+1, '  |  loss (training): ', loss.item()/(tr_size), '  |  loss (validation): ', loss_val.item()/(val_size))"
   ]
  },
  {
   "cell_type": "markdown",
   "metadata": {},
   "source": [
    "##### Training 10 UNet models on the Crack Path dataset with random initialization.\n",
    "\n",
    "\\* Note that without a GPU this training can take a long time."
   ]
  },
  {
   "cell_type": "code",
   "execution_count": null,
   "metadata": {},
   "outputs": [],
   "source": [
    "for i in range(10):\n",
    "    print(f'Training model {i}')\n",
    "    torch.manual_seed(i)\n",
    "    random.seed(i)\n",
    "    np.random.seed(i)\n",
    "    training(epochs=50, learning_rate=0.0001, decay_rate=1, decay_step=50, batch_size=32, channels=32, model_name=f'unet-{i}')"
   ]
  },
  {
   "cell_type": "markdown",
   "metadata": {},
   "source": [
    "### Testing\n",
    "<a id='testing'></a>"
   ]
  },
  {
   "cell_type": "markdown",
   "metadata": {},
   "source": [
    "##### Compute and save predicted probabilities"
   ]
  },
  {
   "cell_type": "code",
   "execution_count": 50,
   "metadata": {},
   "outputs": [],
   "source": [
    "cal_loader = DataLoader(TensorDataset(cal_input, cal_output), batch_size=10, shuffle=False)\n",
    "test_loader = DataLoader(TensorDataset(test_input, test_output), batch_size=10, shuffle=False)"
   ]
  },
  {
   "cell_type": "code",
   "execution_count": null,
   "metadata": {},
   "outputs": [],
   "source": [
    "dev = 'cuda:0' if torch.cuda.is_available() else 'cpu'\n",
    "\n",
    "p = pathlib.Path(f'results/Crack-Path/NN/')\n",
    "p.mkdir(parents=True, exist_ok=True)    \n",
    "\n",
    "for m in range(10):\n",
    "    model = UNet(32)\n",
    "    model.load_state_dict(torch.load(f'unet-{m}.pt'))\n",
    "    model.double()\n",
    "    # remove comment if you are using more than one GPU\n",
    "    #model = nn.DataParallel(model, device_ids = [0])\n",
    "    model.to(dev)\n",
    "    model.eval()\n",
    "\n",
    "    cal_probs = []\n",
    "    with torch.no_grad():\n",
    "        for x, _ in cal_loader:\n",
    "            x = x.to(dev)\n",
    "            probs = torch.softmax(model(x), axis=1)\n",
    "            cal_probs.append(probs.permute(0, 2, 3, 1).flatten(0, -2).cpu().detach().numpy())\n",
    "    cal_probs = np.concatenate(cal_probs, axis=0)\n",
    "    np.save(f'results/Crack-Path/NN/probs-cal-model_num-{m}.npy', cal_probs)\n",
    "    \n",
    "    test_probs = []\n",
    "    with torch.no_grad():\n",
    "        for x, _ in test_loader:\n",
    "            x = x.to(dev)\n",
    "            probs = torch.softmax(model(x), axis=1)\n",
    "            test_probs.append(probs.permute(0, 2, 3, 1).flatten(0, -2).cpu().detach().numpy())\n",
    "    test_probs = np.concatenate(test_probs, axis=0)\n",
    "    np.save(f'results/Crack-Path/NN/probs-test-model_num-{m}.npy', test_probs)\n",
    "    "
   ]
  }
 ],
 "metadata": {
  "kernelspec": {
   "display_name": "Python 3.8.10 64-bit",
   "language": "python",
   "name": "python3"
  },
  "language_info": {
   "codemirror_mode": {
    "name": "ipython",
    "version": 3
   },
   "file_extension": ".py",
   "mimetype": "text/x-python",
   "name": "python",
   "nbconvert_exporter": "python",
   "pygments_lexer": "ipython3",
   "version": "3.8.10"
  },
  "orig_nbformat": 4,
  "vscode": {
   "interpreter": {
    "hash": "916dbcbb3f70747c44a77c7bcd40155683ae19c65e1c03b4aa3499c5328201f1"
   }
  }
 },
 "nbformat": 4,
 "nbformat_minor": 2
}
